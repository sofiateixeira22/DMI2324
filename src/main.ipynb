{
 "cells": [
  {
   "cell_type": "code",
   "execution_count": null,
   "metadata": {},
   "outputs": [],
   "source": [
    "import pandas as pd\n",
    "import math as math\n",
    "from collections import defaultdict\n",
    "import scipy \n",
    "import numpy as np\n",
    "import matplotlib.pyplot as plt"
   ]
  },
  {
   "cell_type": "code",
   "execution_count": null,
   "metadata": {},
   "outputs": [],
   "source": [
    "client_file = 'dataset/client.csv'\n",
    "district_file = 'dataset/district.csv'\n",
    "account_file = 'dataset/account.csv'\n",
    "disp_file = 'dataset/disp.csv'\n",
    "card_dev_file = 'dataset/card_dev.csv'\n",
    "loan_dev_file = 'dataset/loan_dev.csv'\n",
    "trans_dev_file = 'dataset/trans_dev.csv'"
   ]
  },
  {
   "cell_type": "code",
   "execution_count": null,
   "metadata": {},
   "outputs": [],
   "source": [
    "client_df = pd.read_csv(client_file, sep=\";\")\n",
    "district_df = pd.read_csv(district_file, sep=\";\")\n",
    "account_df = pd.read_csv(account_file, sep=\";\")\n",
    "disp_df = pd.read_csv(disp_file, sep=\";\")\n",
    "card_dev_df = pd.read_csv(card_dev_file, sep=\";\")\n",
    "loan_dev_df = pd.read_csv(loan_dev_file, sep=\";\")\n",
    "trans_dev_df = pd.read_csv(trans_dev_file, sep=\";\", dtype={'bank': str, 'account': str})\n"
   ]
  },
  {
   "cell_type": "code",
   "execution_count": null,
   "metadata": {},
   "outputs": [],
   "source": [
    "#months to 0:x indexes\n",
    "\n",
    "month_index = defaultdict(int)\n",
    "index = 0\n",
    "for y in range(93, 98):\n",
    "    for m in range(1,13):\n",
    "        if(m < 10):\n",
    "            month_index[str(y) + '0' + str(m)] = index\n",
    "        else:\n",
    "            month_index[str(y) + str(m)] = index\n",
    "        index += 1\n",
    "\n",
    "print(month_index)\n",
    "\n"
   ]
  },
  {
   "cell_type": "code",
   "execution_count": null,
   "metadata": {},
   "outputs": [],
   "source": [
    "print([trans_dev_df[\"account_id\"][i] for i in trans_dev_df.index[:10]])"
   ]
  },
  {
   "cell_type": "code",
   "execution_count": null,
   "metadata": {},
   "outputs": [],
   "source": [
    "#cria lista das datas de um loan fraudolento\n",
    "x_default_loan = []\n",
    "for i in loan_dev_df.index:\n",
    "    date = str(loan_dev_df['date'][i])[0:4]\n",
    "    status = str(loan_dev_df['status'][i])\n",
    "    if(status == '-1'): x_default_loan.append(month_index[date])\n",
    "\n",
    "print(x_default_loan)"
   ]
  },
  {
   "cell_type": "code",
   "execution_count": null,
   "metadata": {},
   "outputs": [],
   "source": [
    "#cria mapa key: month value: number accounts\n",
    "month_cnt = defaultdict(int)\n",
    "for i in account_df.index:\n",
    "    date = str(account_df['date'][i])[0:4]\n",
    "    month_cnt[date] += 1\n",
    "\n",
    "print(month_cnt) \n",
    "x = []\n",
    "y = []\n",
    "for k,v in month_cnt.items():\n",
    "    x.append(month_index[k])\n",
    "    y.append(v)\n",
    "\n",
    "\n",
    "plt.plot(x,y)\n",
    "plt.show()"
   ]
  },
  {
   "cell_type": "code",
   "execution_count": null,
   "metadata": {},
   "outputs": [],
   "source": [
    "#cria mapa key: month value: transactions done\n",
    "month_cnt = defaultdict(int)\n",
    "for i in trans_dev_df.index:\n",
    "    date = str(trans_dev_df['date'][i])[0:4]\n",
    "    month_cnt[date] += 1\n",
    "\n",
    "print(month_cnt) \n",
    "x = []\n",
    "y = []\n",
    "for k,v in month_cnt.items():\n",
    "    x.append(month_index[k])\n",
    "    y.append(v)\n",
    "\n",
    "#red lines\n",
    "for xc in x_default_loan:\n",
    "    plt.axvline(x=xc,ymax = 140, color='red')\n",
    "\n",
    "plt.plot(x,y)\n",
    "plt.show()"
   ]
  },
  {
   "cell_type": "code",
   "execution_count": null,
   "metadata": {},
   "outputs": [],
   "source": [
    "# cria mapa do cash flow de cada mes para cada conta\n",
    "\n",
    "mp = defaultdict(lambda: defaultdict(int))\n",
    "for i in trans_dev_df.index:\n",
    "    acount = trans_dev_df['account_id'][i]\n",
    "    date = str(trans_dev_df['date'][i])[0:4]\n",
    "    amount = 0\n",
    "    if(trans_dev_df['type'][i] == \"credit\"): amount = trans_dev_df[\"amount\"][i]\n",
    "    elif(trans_dev_df['type'][i] == \"withdrawal\" ): amount = - trans_dev_df[\"amount\"][i]\n",
    "    mp[acount][date] += amount\n",
    "\n",
    "print(mp)\n"
   ]
  },
  {
   "cell_type": "code",
   "execution_count": null,
   "metadata": {},
   "outputs": [],
   "source": [
    "#histogram number of months of acounts\n",
    "arr = []\n",
    "for k,v in mp.items():\n",
    "    arr.append(len(v))\n",
    "\n",
    "hist, bin_edges = np.histogram(arr, bins = range(50))\n",
    "\n",
    "print (\"No. of points in each bin : \", hist) \n",
    "print (\"Size of the bins          : \", bin_edges)\n",
    "\n",
    "plt.bar(bin_edges[:-1], hist, width = 1) \n",
    "plt.xlim(min(bin_edges), max(bin_edges)) \n",
    "plt.show() \n",
    "\n",
    "#print(arr)"
   ]
  },
  {
   "cell_type": "code",
   "execution_count": null,
   "metadata": {},
   "outputs": [],
   "source": [
    "#cria mapa com media de cash flow ate um certo mes para cada conta\n",
    "\n",
    "#key1: acountId key2: date in format yymm all str\n",
    "cash_flow_mean = defaultdict(lambda: defaultdict(int))\n",
    "#mean_until_month = defaultdict()\n",
    "for k1,v1 in mp.items():\n",
    "    #print(\"key: \" + str(k1) + \" V: \" + str(v1))\n",
    "    total = 0\n",
    "    cnt = 0\n",
    "    for k2,v2 in v1.items():\n",
    "        #print(\"key1: \" + str(k1) + \" Key2: \" + str(k2))\n",
    "        total += int(v2)\n",
    "        cnt += 1\n",
    "        cash_flow_mean[str(k1)][str(k2)] = total / cnt\n"
   ]
  },
  {
   "cell_type": "code",
   "execution_count": null,
   "metadata": {},
   "outputs": [],
   "source": [
    "#scatter plot cash_flow loan amount\n",
    "x = [] #cash_flow\n",
    "y = [] #loan payment\n",
    "c = [] #color\n",
    "\n",
    "for i in loan_dev_df.index:\n",
    "    acount = str(loan_dev_df['account_id'][i])\n",
    "\n",
    "    date = str(loan_dev_df['date'][i])[0:4]\n",
    "    if(date[2:4] == '01'):\n",
    "        dt = int(date[0:2])\n",
    "        dt -= 1\n",
    "        date = str(dt) + '12'\n",
    "    else:\n",
    "        dt = int(date[2:4])\n",
    "        dt -= 1\n",
    "        if(dt < 10):\n",
    "            date = date[0:2] + '0' + str(dt)\n",
    "        else:\n",
    "            date = date[0:2] + str(dt)\n",
    "\n",
    "    cash_flow_mean_val = int(cash_flow_mean[acount][date]) \n",
    "    x.append(cash_flow_mean_val)\n",
    "    #if(cash_flow_mean_val == 0):\n",
    "        #print(\"Acount: \" + acount + \" \" + date)\n",
    "        #print(cash_flow_mean[acount])\n",
    "    \n",
    "    amount = int(loan_dev_df['amount'][i])\n",
    "    y.append(amount)\n",
    "\n",
    "    status = str(loan_dev_df['status'][i])\n",
    "    if(status == '-1'): c.append(\"Red\") \n",
    "    else: c.append(\"Green\")\n",
    "\n",
    "plt.scatter(x, y, c=c)\n",
    "plt.show()\n"
   ]
  },
  {
   "cell_type": "code",
   "execution_count": null,
   "metadata": {},
   "outputs": [],
   "source": [
    "#scatter plot cash_flow loan payment\n",
    "x = [] #cash_flow\n",
    "y = [] #loan payment\n",
    "c = [] #color\n",
    "\n",
    "for i in loan_dev_df.index:\n",
    "    acount = str(loan_dev_df['account_id'][i])\n",
    "\n",
    "    date = str(loan_dev_df['date'][i])[0:4]\n",
    "    if(date[2:4] == '01'):\n",
    "        dt = int(date[0:2])\n",
    "        dt -= 1\n",
    "        date = str(dt) + '12'\n",
    "    else:\n",
    "        dt = int(date[2:4])\n",
    "        dt -= 1\n",
    "        if(dt < 10):\n",
    "            date = date[0:2] + '0' + str(dt)\n",
    "        else:\n",
    "            date = date[0:2] + str(dt)\n",
    "\n",
    "    cash_flow_mean_val = int(cash_flow_mean[acount][date]) \n",
    "    x.append(cash_flow_mean_val)\n",
    "    #if(cash_flow_mean_val == 0):\n",
    "        #print(\"Acount: \" + acount + \" \" + date)\n",
    "        #print(cash_flow_mean[acount])\n",
    "    \n",
    "    amount = int(loan_dev_df['payments'][i])\n",
    "    y.append(amount)\n",
    "\n",
    "    status = str(loan_dev_df['status'][i])\n",
    "    if(status == '-1'): c.append(\"Red\") \n",
    "    else: c.append(\"Green\")\n",
    "\n",
    "plt.scatter(x, y, c=c)\n",
    "plt.show()\n"
   ]
  },
  {
   "cell_type": "code",
   "execution_count": null,
   "metadata": {},
   "outputs": [],
   "source": []
  }
 ],
 "metadata": {
  "kernelspec": {
   "display_name": "Python 3",
   "language": "python",
   "name": "python3"
  },
  "language_info": {
   "codemirror_mode": {
    "name": "ipython",
    "version": 3
   },
   "file_extension": ".py",
   "mimetype": "text/x-python",
   "name": "python",
   "nbconvert_exporter": "python",
   "pygments_lexer": "ipython3",
   "version": "3.11.5"
  }
 },
 "nbformat": 4,
 "nbformat_minor": 2
}
